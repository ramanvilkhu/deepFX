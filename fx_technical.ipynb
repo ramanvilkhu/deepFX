{
 "cells": [
  {
   "cell_type": "markdown",
   "metadata": {},
   "source": [
    "#### General Loading + preprocessing\n",
    "*followed preliminary example here: https://datascience.stackexchange.com/questions/26871/can-someone-spot-anything-wrong-with-my-lstm-forex-model/26876"
   ]
  },
  {
   "cell_type": "code",
   "execution_count": 102,
   "metadata": {},
   "outputs": [],
   "source": [
    "import matplotlib.pyplot as plt\n",
    "import numpy as np\n",
    "import pandas as pd\n",
    "\n",
    "import tensorflow as tf\n",
    "import yfinance as yf\n",
    "\n",
    "from keras.models import Sequential\n",
    "from keras.layers import LSTM, Dense, Flatten"
   ]
  },
  {
   "cell_type": "code",
   "execution_count": 137,
   "metadata": {},
   "outputs": [],
   "source": [
    "#Loading params\n",
    "#start_date = '2016-01-01'\n",
    "start_date = '2008-01-01'\n",
    "end_date = '2019-08-01'"
   ]
  },
  {
   "cell_type": "code",
   "execution_count": 166,
   "metadata": {},
   "outputs": [
    {
     "name": "stdout",
     "output_type": "stream",
     "text": [
      "[*********************100%***********************]  1 of 1 completed\n",
      "[*********************100%***********************]  1 of 1 completed\n",
      "[*********************100%***********************]  1 of 1 completed\n",
      "[*********************100%***********************]  1 of 1 completed\n",
      "[*********************100%***********************]  1 of 1 completed\n",
      "[*********************100%***********************]  1 of 1 completed\n",
      "[*********************100%***********************]  1 of 1 completed\n",
      "[*********************100%***********************]  1 of 1 completed\n",
      "[*********************100%***********************]  1 of 1 completed\n",
      "[*********************100%***********************]  1 of 1 completed\n"
     ]
    }
   ],
   "source": [
    "#Load correlated data\n",
    "datacorr = {}\n",
    "\n",
    "##1 - euro/gbp\n",
    "datacorr['eurgbp'] = yf.download('EURGBP=X',start_date,end_date2)\n",
    "\n",
    "##2 - FTSE 100\n",
    "datacorr['ftse'] = yf.download('^FTSE',start_date,end_date)\n",
    "\n",
    "##3 - VIX (volatility index)\n",
    "datacorr['vix'] = yf.download('^VIX',start_date,end_date)\n",
    "\n",
    "##4 - euro/usd\n",
    "datacorr['eurusd'] = yf.download('EURUSD=X',start_date,end_date)\n",
    "\n",
    "##5 - DJI\n",
    "datacorr['dji'] = yf.download('^DJI',start_date,end_date)\n",
    "\n",
    "##6 - NASDAQ\n",
    "datacorr['ixic'] = yf.download('^IXIC',start_date,end_date)\n",
    "\n",
    "##7 - Nikkei225\n",
    "datacorr['n225'] = yf.download('^N225',start_date,end_date)\n",
    "\n",
    "##8 - usd/jpy\n",
    "datacorr['usdjpy'] = yf.download('USDJPY=X',start_date,end_date)\n",
    "\n",
    "##9 - gbp/jpy\n",
    "datacorr['gbpjpy'] = yf.download('GBPJPY=X',start_date,end_date)\n",
    "\n",
    "datacorr['usdcny'] = yf.download('USDCNY=X',start_date,end_date)"
   ]
  },
  {
   "cell_type": "code",
   "execution_count": 27,
   "metadata": {},
   "outputs": [],
   "source": [
    "def scale(X):\n",
    "    Xmax = max(X)\n",
    "    Xmin = min(X)\n",
    "    return (X-Xmin)/(Xmax - Xmin)"
   ]
  },
  {
   "cell_type": "code",
   "execution_count": 155,
   "metadata": {},
   "outputs": [
    {
     "name": "stdout",
     "output_type": "stream",
     "text": [
      "[*********************100%***********************]  1 of 1 completed\n"
     ]
    }
   ],
   "source": [
    "#Get other features and concatenate with Closes of other markets\n",
    "\n",
    "num_features = 4 + len(datacorr.keys()) #4 for GBP/USD and 9 other closes\n",
    "#Load main data\n",
    "data = yf.download('GBPUSD=X',start_date,end_date)\n",
    "\n",
    "#align dates for all features\n",
    "for f in datacorr.keys():\n",
    "    data = data.join(datacorr[f],on='Date', how='outer', rsuffix='_'+f).dropna()\n",
    "    \n",
    "x = np.zeros((data.shape[0],num_features))\n",
    "#store in x\n",
    "##first 4\n",
    "datCols = ['Open','Close','High','Low']\n",
    "for cc,col in enumerate(datCols):\n",
    "    x[:,cc] = scale(data[col].values)\n",
    "\n",
    "#next 9\n",
    "for ff,f in enumerate(datacorr.keys()):\n",
    "    x[:,ff+4] = scale(data['Close_'+f].values)"
   ]
  },
  {
   "cell_type": "code",
   "execution_count": 156,
   "metadata": {},
   "outputs": [
    {
     "name": "stdout",
     "output_type": "stream",
     "text": [
      "2670\n"
     ]
    }
   ],
   "source": [
    "#Get labels\n",
    "outlook = 1\n",
    "y_df = data['Close']<data['Close'].shift(-outlook)\n",
    "y = 1*y_df.values\n",
    "print(len(y))"
   ]
  },
  {
   "cell_type": "code",
   "execution_count": 157,
   "metadata": {},
   "outputs": [],
   "source": [
    "#Split data!\n",
    "train_split = 0.8\n",
    "total_count = x.shape[0]\n",
    "train_cut = int(total_count* train_split)\n",
    "\n",
    "x_train = x[: train_cut-1, :]\n",
    "x_test = x[train_cut :, :]\n",
    "y_train = y[: train_cut-1]\n",
    "y_test = y[train_cut :]"
   ]
  },
  {
   "cell_type": "code",
   "execution_count": 165,
   "metadata": {
    "scrolled": false
   },
   "outputs": [
    {
     "name": "stdout",
     "output_type": "stream",
     "text": [
      "Train on 2076 samples, validate on 475 samples\n",
      "Epoch 1/30\n",
      "2076/2076 [==============================] - 8s 4ms/step - loss: 0.6964 - accuracy: 0.4827 - val_loss: 0.6929 - val_accuracy: 0.5116\n",
      "Epoch 2/30\n",
      "2076/2076 [==============================] - 7s 3ms/step - loss: 0.6930 - accuracy: 0.5173 - val_loss: 0.6932 - val_accuracy: 0.5116\n",
      "Epoch 3/30\n",
      "2076/2076 [==============================] - 7s 3ms/step - loss: 0.6939 - accuracy: 0.5010 - val_loss: 0.6929 - val_accuracy: 0.5116\n",
      "Epoch 4/30\n",
      "2076/2076 [==============================] - 7s 3ms/step - loss: 0.6936 - accuracy: 0.5159 - val_loss: 0.6932 - val_accuracy: 0.5137\n",
      "Epoch 5/30\n",
      "2076/2076 [==============================] - 6s 3ms/step - loss: 0.6937 - accuracy: 0.5039 - val_loss: 0.6928 - val_accuracy: 0.5116\n",
      "Epoch 6/30\n",
      "2076/2076 [==============================] - 7s 3ms/step - loss: 0.6932 - accuracy: 0.5294 - val_loss: 0.6927 - val_accuracy: 0.5116\n",
      "Epoch 7/30\n",
      "2076/2076 [==============================] - 7s 4ms/step - loss: 0.6930 - accuracy: 0.5077 - val_loss: 0.6931 - val_accuracy: 0.5116\n",
      "Epoch 8/30\n",
      "2076/2076 [==============================] - 7s 3ms/step - loss: 0.6924 - accuracy: 0.5145 - val_loss: 0.6929 - val_accuracy: 0.5116\n",
      "Epoch 9/30\n",
      "2076/2076 [==============================] - 7s 3ms/step - loss: 0.6917 - accuracy: 0.5356 - val_loss: 0.6928 - val_accuracy: 0.5116\n",
      "Epoch 10/30\n",
      "2076/2076 [==============================] - 7s 3ms/step - loss: 0.6946 - accuracy: 0.5024 - val_loss: 0.6929 - val_accuracy: 0.5116\n",
      "Epoch 11/30\n",
      "2076/2076 [==============================] - 7s 3ms/step - loss: 0.6938 - accuracy: 0.5067 - val_loss: 0.6927 - val_accuracy: 0.5116\n",
      "Epoch 12/30\n",
      "2076/2076 [==============================] - 7s 3ms/step - loss: 0.6922 - accuracy: 0.5077 - val_loss: 0.6928 - val_accuracy: 0.5116\n",
      "Epoch 13/30\n",
      "2076/2076 [==============================] - 6s 3ms/step - loss: 0.6954 - accuracy: 0.5193 - val_loss: 0.6928 - val_accuracy: 0.5116\n",
      "Epoch 14/30\n",
      "2076/2076 [==============================] - 6s 3ms/step - loss: 0.6920 - accuracy: 0.5250 - val_loss: 0.6927 - val_accuracy: 0.5116\n",
      "Epoch 15/30\n",
      "2076/2076 [==============================] - 6s 3ms/step - loss: 0.6938 - accuracy: 0.5092 - val_loss: 0.6929 - val_accuracy: 0.5116\n",
      "Epoch 16/30\n",
      "2076/2076 [==============================] - 7s 3ms/step - loss: 0.6927 - accuracy: 0.5159 - val_loss: 0.6929 - val_accuracy: 0.5116\n",
      "Epoch 17/30\n",
      "2076/2076 [==============================] - 7s 3ms/step - loss: 0.6925 - accuracy: 0.5183 - val_loss: 0.6927 - val_accuracy: 0.5116\n",
      "Epoch 18/30\n",
      "2076/2076 [==============================] - 7s 3ms/step - loss: 0.6922 - accuracy: 0.5145 - val_loss: 0.6929 - val_accuracy: 0.5116\n",
      "Epoch 19/30\n",
      "2076/2076 [==============================] - 7s 3ms/step - loss: 0.6931 - accuracy: 0.5149 - val_loss: 0.6929 - val_accuracy: 0.5116\n",
      "Epoch 20/30\n",
      "2076/2076 [==============================] - 7s 3ms/step - loss: 0.6933 - accuracy: 0.5130 - val_loss: 0.6929 - val_accuracy: 0.5116\n",
      "Epoch 21/30\n",
      "2076/2076 [==============================] - 6s 3ms/step - loss: 0.6925 - accuracy: 0.5164 - val_loss: 0.6929 - val_accuracy: 0.5116\n",
      "Epoch 22/30\n",
      "2076/2076 [==============================] - 6s 3ms/step - loss: 0.6927 - accuracy: 0.5169 - val_loss: 0.6929 - val_accuracy: 0.5116\n",
      "Epoch 23/30\n",
      "2076/2076 [==============================] - 6s 3ms/step - loss: 0.6926 - accuracy: 0.5164 - val_loss: 0.6930 - val_accuracy: 0.5116\n",
      "Epoch 24/30\n",
      "2076/2076 [==============================] - 6s 3ms/step - loss: 0.6926 - accuracy: 0.5169 - val_loss: 0.6929 - val_accuracy: 0.5116\n",
      "Epoch 25/30\n",
      "2076/2076 [==============================] - 7s 3ms/step - loss: 0.6929 - accuracy: 0.5164 - val_loss: 0.6929 - val_accuracy: 0.5116\n",
      "Epoch 26/30\n",
      "2076/2076 [==============================] - 7s 3ms/step - loss: 0.6924 - accuracy: 0.5169 - val_loss: 0.6927 - val_accuracy: 0.5116\n",
      "Epoch 27/30\n",
      "2076/2076 [==============================] - 7s 3ms/step - loss: 0.6926 - accuracy: 0.5222 - val_loss: 0.6928 - val_accuracy: 0.5116\n",
      "Epoch 28/30\n",
      "2076/2076 [==============================] - 7s 3ms/step - loss: 0.6928 - accuracy: 0.5207 - val_loss: 0.6928 - val_accuracy: 0.5116\n",
      "Epoch 29/30\n",
      "2076/2076 [==============================] - 6s 3ms/step - loss: 0.6924 - accuracy: 0.5063 - val_loss: 0.6928 - val_accuracy: 0.5116\n",
      "Epoch 30/30\n",
      "2076/2076 [==============================] - 6s 3ms/step - loss: 0.6932 - accuracy: 0.5019 - val_loss: 0.6928 - val_accuracy: 0.5116\n"
     ]
    }
   ],
   "source": [
    "#Train model!\n",
    "\n",
    "### Constants\n",
    "num_time_steps = 60   # Num of steps in batch (also used for prediction steps into the future)\n",
    "num_features = num_features   # Number of features\n",
    "num_neurons = 97\n",
    "num_outputs = 1 # Just one output (True/False), predicted time series\n",
    "learning_rate = 0.0001 # learning rate, 0.0001 default, but you can play with this\n",
    "nb_epochs = 15 # how many iterations to go through (training steps), you can play with this\n",
    "batch_size = 25\n",
    "\n",
    "model = Sequential()\n",
    "stacked = False\n",
    "stacked = True\n",
    "if stacked == True:\n",
    "    model.add(LSTM(num_neurons, return_sequences=True, input_shape=(num_time_steps,num_features), activation='relu', dropout=0.5))\n",
    "    model.add(LSTM(num_neurons, activation='relu', dropout=0.5))\n",
    "else:\n",
    "    model.add(LSTM(num_neurons, input_shape=(num_time_steps,num_features), activation='relu', dropout=0.5))\n",
    "\n",
    "#model.add(Flatten())\n",
    "model.add(Dense(units=num_outputs, activation='sigmoid'))\n",
    "\n",
    "model.compile(optimizer = 'adam', loss = 'binary_crossentropy', metrics=['accuracy'])\n",
    "\n",
    "look_back = num_time_steps\n",
    "x_train_reshape = create_dataset(x_train, look_back=look_back)\n",
    "y_train_reshape = y_train[(look_back-1):]\n",
    "x_test_reshape = create_dataset(x_test, look_back=look_back)\n",
    "y_test_reshape = y_test[(look_back-1):]\n",
    "history = model.fit(x_train_reshape,\n",
    "                    y_train_reshape,\n",
    "                    batch_size = batch_size,\n",
    "                    epochs = nb_epochs,\n",
    "                    validation_data=(x_test_reshape, y_test_reshape))"
   ]
  },
  {
   "cell_type": "code",
   "execution_count": 111,
   "metadata": {},
   "outputs": [],
   "source": [
    "def create_dataset(dataset, look_back=1):\n",
    "    #dataX, dataY = [], []\n",
    "    dataX= []\n",
    "    for i in range(len(dataset)-look_back+1):\n",
    "        a = dataset[i:(i+look_back), :]\n",
    "        dataX.append(a)\n",
    "        #dataY.append(dataset[i + look_back - 1, :])\n",
    "    #return np.array(dataX), np.array(dataY)\n",
    "    return np.array(dataX)"
   ]
  },
  {
   "cell_type": "code",
   "execution_count": 167,
   "metadata": {},
   "outputs": [
    {
     "name": "stdout",
     "output_type": "stream",
     "text": [
      "475/475 [==============================] - 0s 768us/step\n",
      "Test accuracy:  0.5115789771080017\n",
      "2076/2076 [==============================] - 2s 743us/step\n",
      "Train accuracy:  0.5163776278495789\n"
     ]
    }
   ],
   "source": [
    "score, acc = model.evaluate(x_test_reshape, y_test_reshape,\n",
    "                            batch_size=batch_size)\n",
    "print(\"Test accuracy: \", acc)\n",
    "score, acc = model.evaluate(x_train_reshape, y_train_reshape,\n",
    "                            batch_size=batch_size)\n",
    "print(\"Train accuracy: \", acc)"
   ]
  },
  {
   "cell_type": "code",
   "execution_count": 169,
   "metadata": {},
   "outputs": [
    {
     "data": {
      "image/png": "[encoded data removed]",
      "text/plain": [
       "<Figure size 432x288 with 1 Axes>"
      ]
     },
     "metadata": {
      "needs_background": "light"
     },
     "output_type": "display_data"
    }
   ],
   "source": [
    "plt.plot(history.history['accuracy'][:25])\n",
    "plt.plot(history.history['val_accuracy'][:25])\n",
    "plt.title('Model Accuracy')\n",
    "plt.ylabel('Accuracy')\n",
    "plt.xlabel('Epoch')\n",
    "plt.legend(['Train', 'Test'], loc='upper left')\n",
    "plt.show()"
   ]
  },
  {
   "cell_type": "code",
   "execution_count": 164,
   "metadata": {},
   "outputs": [
    {
     "data": {
      "image/png": "[encoded data removed]",
      "text/plain": [
       "<Figure size 432x288 with 1 Axes>"
      ]
     },
     "metadata": {
      "needs_background": "light"
     },
     "output_type": "display_data"
    }
   ],
   "source": [
    "plt.plot(data['Close'].values)\n",
    "plt.xlabel('Index')\n",
    "plt.ylabel('Relative Price')\n",
    "plt.title('GBP-USD prices over 10 years')\n",
    "plt.show()"
   ]
  }
 ],
 "metadata": {
  "kernelspec": {
   "display_name": "Python 3",
   "language": "python",
   "name": "python3"
  },
  "language_info": {
   "codemirror_mode": {
    "name": "ipython",
    "version": 3
   },
   "file_extension": ".py",
   "mimetype": "text/x-python",
   "name": "python",
   "nbconvert_exporter": "python",
   "pygments_lexer": "ipython3",
   "version": "3.6.8"
  }
 },
 "nbformat": 4,
 "nbformat_minor": 2
}
