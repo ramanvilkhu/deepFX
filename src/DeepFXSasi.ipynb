{
 "cells": [
  {
   "cell_type": "markdown",
   "metadata": {
    "_cell_guid": "567cee2a-4f68-14a0-72e4-d060ec5e1ed8"
   },
   "source": [
    "# DeepFX Sentiment Analysis Network"
   ]
  },
  {
   "cell_type": "markdown",
   "metadata": {},
   "source": [
    "## Package Imports "
   ]
  },
  {
   "cell_type": "code",
   "execution_count": 18,
   "metadata": {
    "_cell_guid": "b70cc604-e55c-2388-ee87-d43450ce514f"
   },
   "outputs": [],
   "source": [
    "import pandas as pd\n",
    "import numpy as np\n",
    "import re\n",
    "from sklearn.metrics import accuracy_score\n",
    "from sklearn.metrics import roc_curve\n",
    "from sklearn.metrics import auc\n",
    "import pickle\n",
    "\n",
    "\n",
    "from keras.preprocessing import sequence\n",
    "from keras.utils import np_utils\n",
    "from keras.models import Sequential\n",
    "from keras.layers.core import Dense, Dropout, Activation, Lambda\n",
    "from keras.layers.embeddings import Embedding\n",
    "from keras.layers.recurrent import GRU\n",
    "from keras.layers.recurrent import LSTM\n",
    "from keras.preprocessing.text import Tokenizer\n",
    "from keras import backend as K\n",
    "from sklearn.preprocessing import MinMaxScaler\n",
    "import matplotlib.pyplot as plt\n",
    "\n",
    "np.random.seed(10)\n",
    "%matplotlib inline"
   ]
  },
  {
   "cell_type": "markdown",
   "metadata": {},
   "source": [
    "## Functions to perform word embeddings "
   ]
  },
  {
   "cell_type": "code",
   "execution_count": 3,
   "metadata": {},
   "outputs": [],
   "source": [
    "def read_glove_vecs(glove_file):\n",
    "    with open(glove_file, 'r', encoding='utf-8') as f:\n",
    "        words = set()\n",
    "        word_to_vec_map = {}\n",
    "        for line in f:\n",
    "            line = line.strip().split()\n",
    "            curr_word = line[0]\n",
    "            words.add(curr_word)\n",
    "            word_to_vec_map[curr_word] = np.array(line[1:], dtype=np.float64)\n",
    "        \n",
    "        i = 1\n",
    "        words_to_index = {}\n",
    "        index_to_words = {}\n",
    "        for w in sorted(words):\n",
    "            words_to_index[w] = i\n",
    "            index_to_words[i] = w\n",
    "            i = i + 1\n",
    "    return words_to_index, index_to_words, word_to_vec_map\n",
    "\n",
    "def convert_to_one_hot(Y, C):\n",
    "    Y = np.eye(C)[Y.reshape(-1)]\n",
    "    return Y\n",
    "\n",
    "def sentences_to_indices(X, word_to_index, max_len):\n",
    "    \"\"\"\n",
    "    Converts an array of sentences (strings) into an array of indices corresponding to words in the sentences.\n",
    "    The output shape should be such that it can be given to `Embedding()`. \n",
    "    \n",
    "    Arguments:\n",
    "    X -- array of sentences (strings), of shape (m, 1)\n",
    "    word_to_index -- a dictionary containing the each word mapped to its index\n",
    "    max_len -- maximum number of words in a sentence. You can assume every sentence in X is no longer than this. \n",
    "    \n",
    "    Returns:\n",
    "    X_indices -- array of indices corresponding to words in the sentences from X, of shape (m, max_len)\n",
    "    \"\"\"\n",
    "    \n",
    "    m = X.shape[0]                                   # number of training examples\n",
    "    \n",
    "    # Initialize X_indices as a numpy matrix of zeros and the correct shape\n",
    "    X_indices = np.zeros((m, max_len), dtype=int)\n",
    "    \n",
    "    for i in range(m):                               # loop over training examples\n",
    "        \n",
    "        # Convert the ith training sentence in lower case and split is into words. You should get a list of words.\n",
    "        sentence_words = [w.lower() for w in X[i].split()]\n",
    "        \n",
    "        # Initialize j to 0\n",
    "        j = 0\n",
    "        \n",
    "        # Loop over the words of sentence_words\n",
    "        for w in sentence_words:\n",
    "            # Set the (i,j)th entry of X_indices to the index of the correct word.\n",
    "            if w in word_to_index:\n",
    "                X_indices[i, j] = word_to_index[w]\n",
    "                # Increment j to j + 1\n",
    "                j += 1\n",
    "                if j >= max_len:\n",
    "                    break\n",
    "            \n",
    "    return X_indices\n",
    "\n",
    "def cleanSentences(string):\n",
    "    strip_special_chars = re.compile(\"[^A-Za-z ]+\")\n",
    "    # remove b\"\n",
    "    string = string.lower().replace(\"b\\\"\", \" \")\n",
    "    # remove b\\'\n",
    "    string = string.lower().replace(\"b\\'\", \"\")\n",
    "    return re.sub(strip_special_chars, \"\", string.lower())\n",
    "\n",
    "def pretrained_embedding_layer(word_to_vec_map, word_to_index):\n",
    "    \"\"\"\n",
    "    Creates a Keras Embedding() layer and loads in pre-trained GloVe 50-dimensional vectors.\n",
    "    \n",
    "    Arguments:\n",
    "    word_to_vec_map -- dictionary mapping words to their GloVe vector representation.\n",
    "    word_to_index -- dictionary mapping from words to their indices in the vocabulary (400,001 words)\n",
    "\n",
    "    Returns:\n",
    "    embedding_layer -- pretrained layer Keras instance\n",
    "    \"\"\"\n",
    "    \n",
    "    vocab_len = len(word_to_index) + 1                  # adding 1 to fit Keras embedding (requirement)\n",
    "    emb_dim = word_to_vec_map[\"cucumber\"].shape[0]      # define dimensionality of your GloVe word vectors (= 50)\n",
    "    \n",
    "    # Initialize the embedding matrix as a numpy array of zeros of shape (vocab_len, dimensions of word vectors = emb_dim)\n",
    "    emb_matrix = np.zeros((vocab_len, emb_dim))\n",
    "    \n",
    "    # Set each row \"index\" of the embedding matrix to be the word vector representation of the \"index\"th word of the vocabulary\n",
    "    for word, index in word_to_index.items():\n",
    "        emb_matrix[index, :] = word_to_vec_map[word]\n",
    "\n",
    "    # Define Keras embedding layer with the correct output/input sizes\n",
    "    embedding_layer = Embedding(vocab_len, emb_dim, trainable=False)\n",
    "    # Build the embedding layer, it is required before setting the weights of the embedding layer. Do not modify the \"None\".\n",
    "    embedding_layer.build((None,))\n",
    "    \n",
    "    # Set the weights of the embedding layer to the embedding matrix. Your layer is now pretrained.\n",
    "    embedding_layer.set_weights([emb_matrix])\n",
    "    \n",
    "    return embedding_layer\n",
    "\n",
    "def create_dataset(dataset, look_back):\n",
    "    #dataX, dataY = [], []\n",
    "    dataX= []\n",
    "    for i in range(len(dataset)-look_back+1):\n",
    "        a = dataset[i:(i+look_back), :]\n",
    "        dataX.append(a)\n",
    "        #dataY.append(dataset[i + look_back - 1, :])\n",
    "    #return np.array(dataX), np.array(dataY)\n",
    "    return np.array(dataX)"
   ]
  },
  {
   "cell_type": "markdown",
   "metadata": {
    "_cell_guid": "90402f9e-568d-70f9-bd2f-f27759c4da50"
   },
   "source": [
    "## Import cleaned data"
   ]
  },
  {
   "cell_type": "code",
   "execution_count": 6,
   "metadata": {
    "_cell_guid": "0e5833ee-eec5-d1d6-be28-7d27fe0ccb2c"
   },
   "outputs": [],
   "source": [
    "#data = pd.read_csv('../input/processed_data.csv')\n",
    "data = pd.read_csv('/Users/sasi/Documents/cs230_project/deepFX/input/processed_data.csv')\n",
    "data['Date'] = pd.to_datetime(data.Date)"
   ]
  },
  {
   "cell_type": "markdown",
   "metadata": {},
   "source": [
    "### Split output data: 80% train, 20% validation"
   ]
  },
  {
   "cell_type": "code",
   "execution_count": 7,
   "metadata": {},
   "outputs": [],
   "source": [
    "train_split = 0.8\n",
    "total_count = data.shape[0]\n",
    "train_cut = int(total_count* train_split)\n",
    "train = data.loc[: train_cut-1, :]\n",
    "test = data.loc[train_cut :, :]\n",
    "y_train = np.array(train[\"Label\"])\n",
    "y_test = np.array(test[\"Label\"])"
   ]
  },
  {
   "cell_type": "code",
   "execution_count": 101,
   "metadata": {},
   "outputs": [],
   "source": [
    "# train.head() # Uncomment to view snippet of processed data"
   ]
  },
  {
   "cell_type": "code",
   "execution_count": 34,
   "metadata": {},
   "outputs": [],
   "source": [
    "#SASI: SAVE ALL DATA FOR ACTIVATIONS\n",
    "with open('../myDates.p','rb') as f:\n",
    "    myDates = pickle.load(f)\n",
    "\n",
    "foo_data = data.set_index('Date')\n",
    "all_data = foo_data[foo_data.index.isin(myDates)]\n",
    "\n",
    "finDates = all_data.reset_index()['Date']\n",
    "\n",
    "#save to pass back\n",
    "with open('finDates.p','wb') as f:\n",
    "    pickle.dump(finDates,f)"
   ]
  },
  {
   "cell_type": "markdown",
   "metadata": {
    "_cell_guid": "cb779364-8ef7-2cbc-6415-e68827ec550b"
   },
   "source": [
    "## Further process data: perform word embeddings and headline concatenation"
   ]
  },
  {
   "cell_type": "markdown",
   "metadata": {},
   "source": [
    "### Concatenate headlines and then convert them to GloVec index encodings"
   ]
  },
  {
   "cell_type": "code",
   "execution_count": 47,
   "metadata": {
    "_cell_guid": "2ba0a469-8140-6f08-fe6b-ce4c6d2d4dbf"
   },
   "outputs": [],
   "source": [
    "trainheadlines = []\n",
    "for row in range(0,len(train.index)):\n",
    "    trainheadlines.append(' '.join(str(x) for x in train.iloc[row,2:27]))"
   ]
  },
  {
   "cell_type": "code",
   "execution_count": 48,
   "metadata": {},
   "outputs": [],
   "source": [
    "testheadlines = []\n",
    "for row in range(0,len(test.index)):\n",
    "    testheadlines.append(' '.join(str(x) for x in test.iloc[row,2:27]))"
   ]
  },
  {
   "cell_type": "code",
   "execution_count": 52,
   "metadata": {},
   "outputs": [],
   "source": [
    "allheadlines = []\n",
    "for row in range(0,len(all_data.index)):\n",
    "    allheadlines.append(' '.join(str(x) for x in all_data.iloc[row,2:27]))"
   ]
  },
  {
   "cell_type": "code",
   "execution_count": 37,
   "metadata": {},
   "outputs": [],
   "source": [
    "word_to_index, index_to_word, word_to_vec_map = read_glove_vecs('../input/glove.6B.50d.txt')"
   ]
  },
  {
   "cell_type": "code",
   "execution_count": 105,
   "metadata": {},
   "outputs": [],
   "source": [
    "# word_to_vec_map['dog'].shape # Uncomment to confirm size of a random vector"
   ]
  },
  {
   "cell_type": "markdown",
   "metadata": {},
   "source": [
    "### Split cleaned, concatenated input data into train and validation set"
   ]
  },
  {
   "cell_type": "code",
   "execution_count": 53,
   "metadata": {},
   "outputs": [],
   "source": [
    "X_train = np.array(list(map(lambda x:cleanSentences(x), trainheadlines)))\n",
    "X_test = np.array(list(map(lambda x:cleanSentences(x), testheadlines)))\n",
    "\n",
    "X_all = np.array(list(map(lambda x:cleanSentences(x), allheadlines)))"
   ]
  },
  {
   "cell_type": "markdown",
   "metadata": {},
   "source": [
    "## Plot distribution of input lengths to determine ideal input size"
   ]
  },
  {
   "cell_type": "code",
   "execution_count": 54,
   "metadata": {},
   "outputs": [
    {
     "data": {
      "text/plain": [
       "Text(0.5, 1.0, 'Sentiment input length distribution')"
      ]
     },
     "execution_count": 54,
     "metadata": {},
     "output_type": "execute_result"
    },
    {
     "data": {
      "image/png": "[encoded data removed]",
      "text/plain": [
       "<Figure size 432x288 with 1 Axes>"
      ]
     },
     "metadata": {
      "needs_background": "light"
     },
     "output_type": "display_data"
    }
   ],
   "source": [
    "X_train_lengths = list(map(lambda x: len(x.split()), X_train))\n",
    "df = pd.DataFrame({'counts': X_train_lengths})\n",
    "df.counts.plot.hist(bins = 40)\n",
    "plt.title('Sentiment input length distribution')"
   ]
  },
  {
   "cell_type": "markdown",
   "metadata": {},
   "source": [
    "## Build model "
   ]
  },
  {
   "cell_type": "code",
   "execution_count": 41,
   "metadata": {},
   "outputs": [],
   "source": [
    "num_time_steps = 60   # Num of steps in batch (also used for prediction steps into the future)\n",
    "num_features = 50   # Number of features"
   ]
  },
  {
   "cell_type": "code",
   "execution_count": 42,
   "metadata": {},
   "outputs": [
    {
     "name": "stdout",
     "output_type": "stream",
     "text": [
      "Build model...\n"
     ]
    }
   ],
   "source": [
    "print('Build model...')\n",
    "model = Sequential()\n",
    "model.add(pretrained_embedding_layer(word_to_vec_map, word_to_index))\n",
    "model.add(LSTM(128, activation='tanh', dropout=0.3, return_sequences=True)) \n",
    "model.add(LSTM(128, activation='tanh', dropout=0.3))\n",
    "model.add(Dense(1))\n",
    "model.add(Activation('sigmoid'))\n",
    "\n",
    "model.compile(loss='binary_crossentropy',\n",
    "              optimizer='adam',\n",
    "              metrics=['accuracy'])\n"
   ]
  },
  {
   "cell_type": "code",
   "execution_count": 188,
   "metadata": {},
   "outputs": [
    {
     "name": "stdout",
     "output_type": "stream",
     "text": [
      "Model: \"sequential_15\"\n",
      "_________________________________________________________________\n",
      "Layer (type)                 Output Shape              Param #   \n",
      "=================================================================\n",
      "embedding_17 (Embedding)     (None, None, 50)          20000050  \n",
      "_________________________________________________________________\n",
      "lstm_15 (LSTM)               (None, None, 128)         91648     \n",
      "_________________________________________________________________\n",
      "lstm_16 (LSTM)               (None, 128)               131584    \n",
      "_________________________________________________________________\n",
      "dense_12 (Dense)             (None, 1)                 129       \n",
      "_________________________________________________________________\n",
      "activation_12 (Activation)   (None, 1)                 0         \n",
      "=================================================================\n",
      "Total params: 20,223,411\n",
      "Trainable params: 223,361\n",
      "Non-trainable params: 20,000,050\n",
      "_________________________________________________________________\n"
     ]
    }
   ],
   "source": [
    "model.summary()"
   ]
  },
  {
   "cell_type": "markdown",
   "metadata": {},
   "source": [
    "### Setup train and validation input data indicies"
   ]
  },
  {
   "cell_type": "code",
   "execution_count": 55,
   "metadata": {},
   "outputs": [
    {
     "name": "stdout",
     "output_type": "stream",
     "text": [
      "(1591, 500)\n",
      "(1807, 500)\n"
     ]
    }
   ],
   "source": [
    "maxlen = 500\n",
    "batch_size = 16\n",
    "X_train_indices = sentences_to_indices(X_train, word_to_index, maxlen)\n",
    "X_test_indices = sentences_to_indices(X_test, word_to_index, maxlen)\n",
    "\n",
    "X_all_indices = sentences_to_indices(X_all, word_to_index, maxlen)\n",
    "\n",
    "print(X_train_indices.shape)\n",
    "print(X_all_indices.shape)"
   ]
  },
  {
   "cell_type": "markdown",
   "metadata": {},
   "source": [
    "### Setup train and validation output data as binary one-hot vectors"
   ]
  },
  {
   "cell_type": "code",
   "execution_count": 44,
   "metadata": {},
   "outputs": [],
   "source": [
    "nb_classes = 2\n",
    "Y_train = np_utils.to_categorical(y_train, nb_classes)\n",
    "Y_test = np_utils.to_categorical(y_test, nb_classes)\n",
    "Y_train = y_train.reshape((-1,1))\n",
    "Y_test = y_test.reshape((-1,1))"
   ]
  },
  {
   "cell_type": "code",
   "execution_count": 56,
   "metadata": {},
   "outputs": [],
   "source": [
    "look_back = num_time_steps\n",
    "X_train_reshape = X_train_indices#create_dataset(X_train_indices, look_back=look_back)\n",
    "Y_train_reshape = Y_train#Y_train[(look_back-1):]\n",
    "X_test_reshape = X_test_indices#create_dataset(X_test_indices, look_back=look_back)\n",
    "Y_test_reshape = Y_test#Y_test[(look_back-1):]\n",
    "\n",
    "X_all_reshape = X_all_indices"
   ]
  },
  {
   "cell_type": "code",
   "execution_count": 57,
   "metadata": {},
   "outputs": [
    {
     "name": "stdout",
     "output_type": "stream",
     "text": [
      "(1807, 500)\n"
     ]
    }
   ],
   "source": [
    "print(X_train_reshape.shape)"
   ]
  },
  {
   "cell_type": "code",
   "execution_count": 46,
   "metadata": {},
   "outputs": [
    {
     "name": "stdout",
     "output_type": "stream",
     "text": [
      "Train...\n",
      "Train on 1591 samples, validate on 398 samples\n",
      "Epoch 1/7\n",
      "1591/1591 [==============================] - 76s 48ms/step - loss: 0.6839 - accuracy: 0.5783 - val_loss: 0.6885 - val_accuracy: 0.5603\n",
      "Epoch 2/7\n",
      "1591/1591 [==============================] - 75s 47ms/step - loss: 0.6795 - accuracy: 0.5845 - val_loss: 0.6874 - val_accuracy: 0.5603\n",
      "Epoch 3/7\n",
      "1591/1591 [==============================] - 74s 46ms/step - loss: 0.6776 - accuracy: 0.5833 - val_loss: 0.6884 - val_accuracy: 0.5628\n",
      "Epoch 4/7\n",
      "1591/1591 [==============================] - 73s 46ms/step - loss: 0.6749 - accuracy: 0.5845 - val_loss: 0.6894 - val_accuracy: 0.5603\n",
      "Epoch 5/7\n",
      "1591/1591 [==============================] - 73s 46ms/step - loss: 0.6817 - accuracy: 0.5858 - val_loss: 0.6855 - val_accuracy: 0.5603\n",
      "Epoch 6/7\n",
      "1591/1591 [==============================] - 70s 44ms/step - loss: 0.6757 - accuracy: 0.5858 - val_loss: 0.6912 - val_accuracy: 0.5603\n",
      "Epoch 7/7\n",
      "1591/1591 [==============================] - 71s 45ms/step - loss: 0.6726 - accuracy: 0.5864 - val_loss: 0.6804 - val_accuracy: 0.5603\n"
     ]
    }
   ],
   "source": [
    "print('Train...')\n",
    "history = model.fit(X_train_reshape, Y_train_reshape, batch_size=batch_size, epochs=7,\n",
    "          validation_data=(X_test_reshape, Y_test_reshape))\n",
    "model.save(\"./model.h8\")"
   ]
  },
  {
   "cell_type": "code",
   "execution_count": 61,
   "metadata": {},
   "outputs": [],
   "source": [
    "#ADDED BY SASI: SAVE ACTIVATIONS IN LAST LAYER\n",
    "model2 = Sequential()\n",
    "model2.add(pretrained_embedding_layer(word_to_vec_map, word_to_index))\n",
    "model2.add(LSTM(128, activation='tanh', dropout=0.3, return_sequences=True, weights=model.layers[1].get_weights())) \n",
    "model2.add(LSTM(128, activation='tanh', dropout=0.3, weights=model.layers[2].get_weights()))\n",
    "model2.add(Activation('tanh'))\n",
    "\n",
    "activations = model2.predict(X_all_reshape)\n"
   ]
  },
  {
   "cell_type": "code",
   "execution_count": 63,
   "metadata": {},
   "outputs": [
    {
     "name": "stdout",
     "output_type": "stream",
     "text": [
      "(1807, 128)\n"
     ]
    }
   ],
   "source": [
    "#SAVE ACTIVATIONS for each word (at 56% accuracy) to pass to fx_technical as features\n",
    "\n",
    "print(activations.shape)\n",
    "with open('word_acts.p','wb') as f:\n",
    "    pickle.dump(activations,f)\n"
   ]
  },
  {
   "cell_type": "markdown",
   "metadata": {},
   "source": [
    "### Print out train and validation accuracy results"
   ]
  },
  {
   "cell_type": "code",
   "execution_count": 194,
   "metadata": {},
   "outputs": [
    {
     "name": "stdout",
     "output_type": "stream",
     "text": [
      "398/398 [==============================] - 2s 6ms/step\n",
      "Test accuracy:  0.5577889680862427\n",
      "1591/1591 [==============================] - 9s 6ms/step\n",
      "Train accuracy:  0.6165933609008789\n"
     ]
    }
   ],
   "source": [
    "score, acc = model.evaluate(X_test_reshape, Y_test_reshape,\n",
    "                            batch_size=batch_size)\n",
    "print(\"Test accuracy: \", acc)\n",
    "score1, acc1 = model.evaluate(X_train_reshape, Y_train_reshape,\n",
    "                            batch_size=batch_size)\n",
    "print(\"Train accuracy: \", acc1)"
   ]
  },
  {
   "cell_type": "code",
   "execution_count": 195,
   "metadata": {},
   "outputs": [
    {
     "data": {
      "image/png": "[encoded data removed]",
      "text/plain": [
       "<Figure size 432x288 with 1 Axes>"
      ]
     },
     "metadata": {
      "needs_background": "light"
     },
     "output_type": "display_data"
    }
   ],
   "source": [
    "plt.plot(history.history['accuracy'])\n",
    "#plt.plot(history.history['val_accuracy'])\n",
    "plt.title('Model Accuracy')\n",
    "plt.ylabel('Accuracy')\n",
    "plt.xlabel('Epoch')\n",
    "plt.legend(['Training accuracy', 'Testing accuracy'], loc='best')\n",
    "plt.show()"
   ]
  },
  {
   "cell_type": "code",
   "execution_count": 196,
   "metadata": {},
   "outputs": [],
   "source": [
    "y_pred_keras = model.predict(X_test_indices).ravel()\n",
    "fpr_keras, tpr_keras, thresholds_keras = roc_curve(y_test, y_pred_keras)"
   ]
  },
  {
   "cell_type": "code",
   "execution_count": 197,
   "metadata": {},
   "outputs": [],
   "source": [
    "auc_keras = auc(fpr_keras, tpr_keras)"
   ]
  },
  {
   "cell_type": "code",
   "execution_count": 198,
   "metadata": {},
   "outputs": [
    {
     "data": {
      "image/png": "[encoded data removed]",
      "text/plain": [
       "<Figure size 432x288 with 1 Axes>"
      ]
     },
     "metadata": {
      "needs_background": "light"
     },
     "output_type": "display_data"
    }
   ],
   "source": [
    "plt.figure(1)\n",
    "plt.plot([0, 1], [0, 1], 'k--')\n",
    "plt.plot(fpr_keras, tpr_keras, label='Keras (area = {:.3f})'.format(auc_keras))\n",
    "plt.xlabel('False positive rate')\n",
    "plt.ylabel('True positive rate')\n",
    "plt.title('ROC curve')\n",
    "plt.legend(loc='best')\n",
    "plt.show()"
   ]
  },
  {
   "cell_type": "code",
   "execution_count": null,
   "metadata": {},
   "outputs": [],
   "source": []
  }
 ],
 "metadata": {
  "_change_revision": 0,
  "_is_fork": false,
  "kernelspec": {
   "display_name": "Python 3",
   "language": "python",
   "name": "python3"
  },
  "language_info": {
   "codemirror_mode": {
    "name": "ipython",
    "version": 3
   },
   "file_extension": ".py",
   "mimetype": "text/x-python",
   "name": "python",
   "nbconvert_exporter": "python",
   "pygments_lexer": "ipython3",
   "version": "3.6.8"
  }
 },
 "nbformat": 4,
 "nbformat_minor": 1
}
